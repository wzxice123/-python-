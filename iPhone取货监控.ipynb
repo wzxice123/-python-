{
 "cells": [
  {
   "cell_type": "code",
   "execution_count": 5,
   "id": "94e3de14",
   "metadata": {},
   "outputs": [],
   "source": [
    "##获取查单链接\n",
    "import requests\n",
    "import json\n",
    "#url编码\n",
    "from urllib.parse import quote"
   ]
  },
  {
   "cell_type": "code",
   "execution_count": 6,
   "id": "dba64f4f",
   "metadata": {},
   "outputs": [],
   "source": [
    "import requests\n",
    "def send_wechat(msg):\n",
    " \n",
    "    #前边复制到那个token  ,'cdpphdbmer2e30cds150'\n",
    "    tokenlist=['cdpo60rmer2e30cds13g','cdu9vdrmer2e30cds1bg','cdpphdbmer2e30cds150']\n",
    "    #https://api.letserver.run/message/info?token=YOUR-TOKEN&msg=hello\n",
    "    for i in tokenlist:\n",
    "        url = f\"https://api.letserver.run/message/info?token={i}&msg={msg}\".format(i,msg)\n",
    "      \n",
    "        r = requests.get(url=url)\n",
    "        print(r.text)\n",
    "    "
   ]
  },
  {
   "cell_type": "code",
   "execution_count": 7,
   "id": "f690e1b9",
   "metadata": {},
   "outputs": [],
   "source": [
    "#14 pro max大陆型号编码\n",
    "model_list=[\n",
    "'PM128GB DeepPurple MQ863CH/A',\n",
    "'PM256GB DeepPurple MQ8A3CH/A',\n",
    "'PM512GB DeepPurple MQ8G3CH/A',\n",
    "'PM1TB DeepPurple MQ8M3CH/A',\n",
    "'PM128GB Gold MQ853CH/A',\n",
    "'PM256GB Gold MQ893CH/A',\n",
    "'PM512GB Gold MQ8F3CH/A',\n",
    "'PM1TB Gold MQ8L3CH/A',\n",
    "'PM128GB Silver MQ843CH/A',\n",
    "'PM256GB Silver MQ883CH/A',\n",
    "'PM512GB Silver MQ8E3CH/A',\n",
    "'PM1TB Silver MQ8J3CH/A',\n",
    "'PM128GB SpaceBlack MQ833CH/A',\n",
    "'PM256GB SpaceBlack MQ873CH/A',\n",
    "'PM512GB SpaceBlack MQ8D3CH/A',\n",
    "'PM1TB SpaceBlack MQ8H3CH/A',\n",
    "                      #14 Pro\n",
    "'Pro128GB DeepPurple MQ0D3CH/A',\n",
    "'Pro256GB DeepPurple MQ1C3CH/A',\n",
    "'Pro512GB DeepPurple MQ263CH/A',\n",
    "'Pro1TB DeepPurple MQ2Y3CH/A',\n",
    "'Pro128GB Gold MQ053CH/A',\n",
    "'Pro256GB Gold MQ143CH/A',\n",
    "'Pro512GB Gold MQ203CH/A',\n",
    "'Pro1TB Gold MQ2R3CH/A',\n",
    "'Pro128GB Silver MPXY3CH/A',\n",
    "'Pro256GB Silver MQ0W3CH/A',\n",
    "'Pro512GB Silver MQ1R3CH/A',\n",
    "'Pro1TB Silver MQ2K3CH/A',\n",
    "'Pro128GB SpaceBlack MPXR3CH/A',\n",
    "'Pro256GB SpaceBlack MQ0M3CH/A',\n",
    "'Pro512GB SpaceBlack MQ1J3CH/A',\n",
    "'Pro1TB SpaceBlack MQ2D3CH/A']"
   ]
  },
  {
   "cell_type": "code",
   "execution_count": 8,
   "id": "4d418c8b",
   "metadata": {},
   "outputs": [],
   "source": [
    "def job():    \n",
    "    import re\n",
    "    flag=\"F\"\n",
    "    result_list=list()\n",
    "    for item in model_list:\n",
    "        model=item.split(' ')[2]\n",
    "        #'R688'表示apple 苏州\n",
    "        appid='R688'\n",
    "        url='https://www.apple.com.cn/shop/fulfillment-messages?pl=true&mts.0=regular&mts.1=compact&parts.0={}&searchNearby=true&store={}'.format(model,appid)\n",
    "        \n",
    "        res=requests.get(url).json()\n",
    "        for store in res['body']['content']['pickupMessage']['stores']:\n",
    "            #无货显示暂无供应，有货显示某日期可取货\n",
    "            if re.findall(\"取货\",store['partsAvailability'][model]['pickupSearchQuote']):\n",
    "                res=[item,store['city'],store['storeName'],store['partsAvailability'][model]['pickupSearchQuote']]\n",
    "                result_list.append(res)\n",
    "                print(res)\n",
    "\n",
    "            else:\n",
    "             \n",
    "                continue\n",
    "    if len(result_list)!=0: \n",
    "        for item in result_list:\n",
    "            msg=str(item)\n",
    "            #send_wechat(msg)\n",
    "        flag=\"T\"\n",
    "     \n",
    "    else:\n",
    "        flag=\"F\"\n",
    "    return flag        \n",
    "  "
   ]
  },
  {
   "cell_type": "code",
   "execution_count": 9,
   "id": "52f763e4",
   "metadata": {},
   "outputs": [],
   "source": [
    "import time\n",
    "import pandas as pd\n",
    "def main():\n",
    "    i=0\n",
    "    while 1==1:\n",
    "        print(\"苹果线下取货监控中\",i)\n",
    "        i=i+1\n",
    "        time.sleep(10)\n",
    "        flag=job()\n",
    "        #如果当天检测到有货，1h后再检测\n",
    "        if flag=='T':\n",
    "            time.sleep(3)\n",
    "        else:\n",
    "            continue\n"
   ]
  },
  {
   "cell_type": "code",
   "execution_count": 10,
   "id": "bc004199",
   "metadata": {},
   "outputs": [
    {
     "name": "stdout",
     "output_type": "stream",
     "text": [
      "苹果线下取货监控中 0\n",
      "['Pro1TB DeepPurple MQ2Y3CH/A', '苏州', '苏州', '明天可取货']\n",
      "['Pro1TB DeepPurple MQ2Y3CH/A', '上海', '七宝', '明天可取货']\n",
      "['Pro1TB DeepPurple MQ2Y3CH/A', '杭州', '杭州万象城', '明天可取货']\n",
      "['Pro1TB DeepPurple MQ2Y3CH/A', '杭州', '西湖', '明天可取货']\n",
      "['Pro1TB DeepPurple MQ2Y3CH/A', '宁波', '天一广场', '明天可取货']\n"
     ]
    },
    {
     "ename": "JSONDecodeError",
     "evalue": "Unterminated string starting at: line 1 column 8951 (char 8950)",
     "output_type": "error",
     "traceback": [
      "\u001b[0;31m---------------------------------------------------------------------------\u001b[0m",
      "\u001b[0;31mJSONDecodeError\u001b[0m                           Traceback (most recent call last)",
      "File \u001b[0;32m/opt/anaconda3/lib/python3.9/site-packages/requests/models.py:971\u001b[0m, in \u001b[0;36mResponse.json\u001b[0;34m(self, **kwargs)\u001b[0m\n\u001b[1;32m    970\u001b[0m \u001b[38;5;28;01mtry\u001b[39;00m:\n\u001b[0;32m--> 971\u001b[0m     \u001b[38;5;28;01mreturn\u001b[39;00m \u001b[43mcomplexjson\u001b[49m\u001b[38;5;241;43m.\u001b[39;49m\u001b[43mloads\u001b[49m\u001b[43m(\u001b[49m\u001b[38;5;28;43mself\u001b[39;49m\u001b[38;5;241;43m.\u001b[39;49m\u001b[43mtext\u001b[49m\u001b[43m,\u001b[49m\u001b[43m \u001b[49m\u001b[38;5;241;43m*\u001b[39;49m\u001b[38;5;241;43m*\u001b[39;49m\u001b[43mkwargs\u001b[49m\u001b[43m)\u001b[49m\n\u001b[1;32m    972\u001b[0m \u001b[38;5;28;01mexcept\u001b[39;00m JSONDecodeError \u001b[38;5;28;01mas\u001b[39;00m e:\n\u001b[1;32m    973\u001b[0m     \u001b[38;5;66;03m# Catch JSON-related errors and raise as requests.JSONDecodeError\u001b[39;00m\n\u001b[1;32m    974\u001b[0m     \u001b[38;5;66;03m# This aliases json.JSONDecodeError and simplejson.JSONDecodeError\u001b[39;00m\n",
      "File \u001b[0;32m/opt/anaconda3/lib/python3.9/json/__init__.py:346\u001b[0m, in \u001b[0;36mloads\u001b[0;34m(s, cls, object_hook, parse_float, parse_int, parse_constant, object_pairs_hook, **kw)\u001b[0m\n\u001b[1;32m    343\u001b[0m \u001b[38;5;28;01mif\u001b[39;00m (\u001b[38;5;28mcls\u001b[39m \u001b[38;5;129;01mis\u001b[39;00m \u001b[38;5;28;01mNone\u001b[39;00m \u001b[38;5;129;01mand\u001b[39;00m object_hook \u001b[38;5;129;01mis\u001b[39;00m \u001b[38;5;28;01mNone\u001b[39;00m \u001b[38;5;129;01mand\u001b[39;00m\n\u001b[1;32m    344\u001b[0m         parse_int \u001b[38;5;129;01mis\u001b[39;00m \u001b[38;5;28;01mNone\u001b[39;00m \u001b[38;5;129;01mand\u001b[39;00m parse_float \u001b[38;5;129;01mis\u001b[39;00m \u001b[38;5;28;01mNone\u001b[39;00m \u001b[38;5;129;01mand\u001b[39;00m\n\u001b[1;32m    345\u001b[0m         parse_constant \u001b[38;5;129;01mis\u001b[39;00m \u001b[38;5;28;01mNone\u001b[39;00m \u001b[38;5;129;01mand\u001b[39;00m object_pairs_hook \u001b[38;5;129;01mis\u001b[39;00m \u001b[38;5;28;01mNone\u001b[39;00m \u001b[38;5;129;01mand\u001b[39;00m \u001b[38;5;129;01mnot\u001b[39;00m kw):\n\u001b[0;32m--> 346\u001b[0m     \u001b[38;5;28;01mreturn\u001b[39;00m \u001b[43m_default_decoder\u001b[49m\u001b[38;5;241;43m.\u001b[39;49m\u001b[43mdecode\u001b[49m\u001b[43m(\u001b[49m\u001b[43ms\u001b[49m\u001b[43m)\u001b[49m\n\u001b[1;32m    347\u001b[0m \u001b[38;5;28;01mif\u001b[39;00m \u001b[38;5;28mcls\u001b[39m \u001b[38;5;129;01mis\u001b[39;00m \u001b[38;5;28;01mNone\u001b[39;00m:\n",
      "File \u001b[0;32m/opt/anaconda3/lib/python3.9/json/decoder.py:337\u001b[0m, in \u001b[0;36mJSONDecoder.decode\u001b[0;34m(self, s, _w)\u001b[0m\n\u001b[1;32m    333\u001b[0m \u001b[38;5;124;03m\"\"\"Return the Python representation of ``s`` (a ``str`` instance\u001b[39;00m\n\u001b[1;32m    334\u001b[0m \u001b[38;5;124;03mcontaining a JSON document).\u001b[39;00m\n\u001b[1;32m    335\u001b[0m \n\u001b[1;32m    336\u001b[0m \u001b[38;5;124;03m\"\"\"\u001b[39;00m\n\u001b[0;32m--> 337\u001b[0m obj, end \u001b[38;5;241m=\u001b[39m \u001b[38;5;28;43mself\u001b[39;49m\u001b[38;5;241;43m.\u001b[39;49m\u001b[43mraw_decode\u001b[49m\u001b[43m(\u001b[49m\u001b[43ms\u001b[49m\u001b[43m,\u001b[49m\u001b[43m \u001b[49m\u001b[43midx\u001b[49m\u001b[38;5;241;43m=\u001b[39;49m\u001b[43m_w\u001b[49m\u001b[43m(\u001b[49m\u001b[43ms\u001b[49m\u001b[43m,\u001b[49m\u001b[43m \u001b[49m\u001b[38;5;241;43m0\u001b[39;49m\u001b[43m)\u001b[49m\u001b[38;5;241;43m.\u001b[39;49m\u001b[43mend\u001b[49m\u001b[43m(\u001b[49m\u001b[43m)\u001b[49m\u001b[43m)\u001b[49m\n\u001b[1;32m    338\u001b[0m end \u001b[38;5;241m=\u001b[39m _w(s, end)\u001b[38;5;241m.\u001b[39mend()\n",
      "File \u001b[0;32m/opt/anaconda3/lib/python3.9/json/decoder.py:353\u001b[0m, in \u001b[0;36mJSONDecoder.raw_decode\u001b[0;34m(self, s, idx)\u001b[0m\n\u001b[1;32m    352\u001b[0m \u001b[38;5;28;01mtry\u001b[39;00m:\n\u001b[0;32m--> 353\u001b[0m     obj, end \u001b[38;5;241m=\u001b[39m \u001b[38;5;28;43mself\u001b[39;49m\u001b[38;5;241;43m.\u001b[39;49m\u001b[43mscan_once\u001b[49m\u001b[43m(\u001b[49m\u001b[43ms\u001b[49m\u001b[43m,\u001b[49m\u001b[43m \u001b[49m\u001b[43midx\u001b[49m\u001b[43m)\u001b[49m\n\u001b[1;32m    354\u001b[0m \u001b[38;5;28;01mexcept\u001b[39;00m \u001b[38;5;167;01mStopIteration\u001b[39;00m \u001b[38;5;28;01mas\u001b[39;00m err:\n",
      "\u001b[0;31mJSONDecodeError\u001b[0m: Unterminated string starting at: line 1 column 8951 (char 8950)",
      "\nDuring handling of the above exception, another exception occurred:\n",
      "\u001b[0;31mJSONDecodeError\u001b[0m                           Traceback (most recent call last)",
      "Input \u001b[0;32mIn [10]\u001b[0m, in \u001b[0;36m<cell line: 1>\u001b[0;34m()\u001b[0m\n\u001b[1;32m      1\u001b[0m \u001b[38;5;28;01mif\u001b[39;00m \u001b[38;5;18m__name__\u001b[39m \u001b[38;5;241m==\u001b[39m \u001b[38;5;124m'\u001b[39m\u001b[38;5;124m__main__\u001b[39m\u001b[38;5;124m'\u001b[39m:\n\u001b[0;32m----> 2\u001b[0m     \u001b[43mmain\u001b[49m\u001b[43m(\u001b[49m\u001b[43m)\u001b[49m\n",
      "Input \u001b[0;32mIn [9]\u001b[0m, in \u001b[0;36mmain\u001b[0;34m()\u001b[0m\n\u001b[1;32m      7\u001b[0m i\u001b[38;5;241m=\u001b[39mi\u001b[38;5;241m+\u001b[39m\u001b[38;5;241m1\u001b[39m\n\u001b[1;32m      8\u001b[0m time\u001b[38;5;241m.\u001b[39msleep(\u001b[38;5;241m10\u001b[39m)\n\u001b[0;32m----> 9\u001b[0m flag\u001b[38;5;241m=\u001b[39m\u001b[43mjob\u001b[49m\u001b[43m(\u001b[49m\u001b[43m)\u001b[49m\n\u001b[1;32m     10\u001b[0m \u001b[38;5;66;03m#如果当天检测到有货，1h后再检测\u001b[39;00m\n\u001b[1;32m     11\u001b[0m \u001b[38;5;28;01mif\u001b[39;00m flag\u001b[38;5;241m==\u001b[39m\u001b[38;5;124m'\u001b[39m\u001b[38;5;124mT\u001b[39m\u001b[38;5;124m'\u001b[39m:\n",
      "Input \u001b[0;32mIn [8]\u001b[0m, in \u001b[0;36mjob\u001b[0;34m()\u001b[0m\n\u001b[1;32m      8\u001b[0m appid\u001b[38;5;241m=\u001b[39m\u001b[38;5;124m'\u001b[39m\u001b[38;5;124mR688\u001b[39m\u001b[38;5;124m'\u001b[39m\n\u001b[1;32m      9\u001b[0m url\u001b[38;5;241m=\u001b[39m\u001b[38;5;124m'\u001b[39m\u001b[38;5;124mhttps://www.apple.com.cn/shop/fulfillment-messages?pl=true&mts.0=regular&mts.1=compact&parts.0=\u001b[39m\u001b[38;5;132;01m{}\u001b[39;00m\u001b[38;5;124m&searchNearby=true&store=\u001b[39m\u001b[38;5;132;01m{}\u001b[39;00m\u001b[38;5;124m'\u001b[39m\u001b[38;5;241m.\u001b[39mformat(model,appid)\n\u001b[0;32m---> 11\u001b[0m res\u001b[38;5;241m=\u001b[39m\u001b[43mrequests\u001b[49m\u001b[38;5;241;43m.\u001b[39;49m\u001b[43mget\u001b[49m\u001b[43m(\u001b[49m\u001b[43murl\u001b[49m\u001b[43m)\u001b[49m\u001b[38;5;241;43m.\u001b[39;49m\u001b[43mjson\u001b[49m\u001b[43m(\u001b[49m\u001b[43m)\u001b[49m\n\u001b[1;32m     12\u001b[0m \u001b[38;5;28;01mfor\u001b[39;00m store \u001b[38;5;129;01min\u001b[39;00m res[\u001b[38;5;124m'\u001b[39m\u001b[38;5;124mbody\u001b[39m\u001b[38;5;124m'\u001b[39m][\u001b[38;5;124m'\u001b[39m\u001b[38;5;124mcontent\u001b[39m\u001b[38;5;124m'\u001b[39m][\u001b[38;5;124m'\u001b[39m\u001b[38;5;124mpickupMessage\u001b[39m\u001b[38;5;124m'\u001b[39m][\u001b[38;5;124m'\u001b[39m\u001b[38;5;124mstores\u001b[39m\u001b[38;5;124m'\u001b[39m]:\n\u001b[1;32m     13\u001b[0m     \u001b[38;5;66;03m#无货显示暂无供应，有货显示某日期可取货\u001b[39;00m\n\u001b[1;32m     14\u001b[0m     \u001b[38;5;28;01mif\u001b[39;00m re\u001b[38;5;241m.\u001b[39mfindall(\u001b[38;5;124m\"\u001b[39m\u001b[38;5;124m取货\u001b[39m\u001b[38;5;124m\"\u001b[39m,store[\u001b[38;5;124m'\u001b[39m\u001b[38;5;124mpartsAvailability\u001b[39m\u001b[38;5;124m'\u001b[39m][model][\u001b[38;5;124m'\u001b[39m\u001b[38;5;124mpickupSearchQuote\u001b[39m\u001b[38;5;124m'\u001b[39m]):\n",
      "File \u001b[0;32m/opt/anaconda3/lib/python3.9/site-packages/requests/models.py:975\u001b[0m, in \u001b[0;36mResponse.json\u001b[0;34m(self, **kwargs)\u001b[0m\n\u001b[1;32m    971\u001b[0m     \u001b[38;5;28;01mreturn\u001b[39;00m complexjson\u001b[38;5;241m.\u001b[39mloads(\u001b[38;5;28mself\u001b[39m\u001b[38;5;241m.\u001b[39mtext, \u001b[38;5;241m*\u001b[39m\u001b[38;5;241m*\u001b[39mkwargs)\n\u001b[1;32m    972\u001b[0m \u001b[38;5;28;01mexcept\u001b[39;00m JSONDecodeError \u001b[38;5;28;01mas\u001b[39;00m e:\n\u001b[1;32m    973\u001b[0m     \u001b[38;5;66;03m# Catch JSON-related errors and raise as requests.JSONDecodeError\u001b[39;00m\n\u001b[1;32m    974\u001b[0m     \u001b[38;5;66;03m# This aliases json.JSONDecodeError and simplejson.JSONDecodeError\u001b[39;00m\n\u001b[0;32m--> 975\u001b[0m     \u001b[38;5;28;01mraise\u001b[39;00m RequestsJSONDecodeError(e\u001b[38;5;241m.\u001b[39mmsg, e\u001b[38;5;241m.\u001b[39mdoc, e\u001b[38;5;241m.\u001b[39mpos)\n",
      "\u001b[0;31mJSONDecodeError\u001b[0m: Unterminated string starting at: line 1 column 8951 (char 8950)"
     ]
    }
   ],
   "source": [
    "if __name__ == '__main__':\n",
    "    main()"
   ]
  },
  {
   "cell_type": "code",
   "execution_count": null,
   "id": "f18bbd30",
   "metadata": {},
   "outputs": [],
   "source": []
  },
  {
   "cell_type": "code",
   "execution_count": null,
   "id": "ecffd72c",
   "metadata": {},
   "outputs": [],
   "source": []
  }
 ],
 "metadata": {
  "kernelspec": {
   "display_name": "Python 3 (ipykernel)",
   "language": "python",
   "name": "python3"
  },
  "language_info": {
   "codemirror_mode": {
    "name": "ipython",
    "version": 3
   },
   "file_extension": ".py",
   "mimetype": "text/x-python",
   "name": "python",
   "nbconvert_exporter": "python",
   "pygments_lexer": "ipython3",
   "version": "3.9.13"
  }
 },
 "nbformat": 4,
 "nbformat_minor": 5
}
